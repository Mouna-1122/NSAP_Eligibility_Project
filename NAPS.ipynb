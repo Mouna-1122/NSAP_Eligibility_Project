{
    "cells": [
        {
            "cell_type": "code",
            "execution_count": 1,
            "metadata": {
                "id": "99330d44-4f71-4ebc-a6ca-970dae24fa3a"
            },
            "outputs": [
                {
                    "data": {
                        "text/html": "<div>\n<style scoped>\n    .dataframe tbody tr th:only-of-type {\n        vertical-align: middle;\n    }\n\n    .dataframe tbody tr th {\n        vertical-align: top;\n    }\n\n    .dataframe thead th {\n        text-align: right;\n    }\n</style>\n<table border=\"1\" class=\"dataframe\">\n  <thead>\n    <tr style=\"text-align: right;\">\n      <th></th>\n      <th>finyear</th>\n      <th>lgdstatecode</th>\n      <th>statename</th>\n      <th>lgddistrictcode</th>\n      <th>districtname</th>\n      <th>schemecode</th>\n      <th>totalbeneficiaries</th>\n      <th>totalmale</th>\n      <th>totalfemale</th>\n      <th>totaltransgender</th>\n      <th>totalsc</th>\n      <th>totalst</th>\n      <th>totalgen</th>\n      <th>totalobc</th>\n      <th>totalaadhaar</th>\n      <th>totalmpbilenumber</th>\n    </tr>\n  </thead>\n  <tbody>\n    <tr>\n      <th>0</th>\n      <td>2025-2026</td>\n      <td>1</td>\n      <td>JAMMU AND KASHMIR</td>\n      <td>1</td>\n      <td>ANANTNAG</td>\n      <td>IGNDPS</td>\n      <td>107</td>\n      <td>71</td>\n      <td>36</td>\n      <td>0</td>\n      <td>0</td>\n      <td>2</td>\n      <td>104</td>\n      <td>1</td>\n      <td>107</td>\n      <td>69</td>\n    </tr>\n    <tr>\n      <th>1</th>\n      <td>2025-2026</td>\n      <td>1</td>\n      <td>JAMMU AND KASHMIR</td>\n      <td>1</td>\n      <td>ANANTNAG</td>\n      <td>IGNOAPS</td>\n      <td>8393</td>\n      <td>5037</td>\n      <td>3356</td>\n      <td>0</td>\n      <td>37</td>\n      <td>232</td>\n      <td>8039</td>\n      <td>85</td>\n      <td>8327</td>\n      <td>7162</td>\n    </tr>\n    <tr>\n      <th>2</th>\n      <td>2025-2026</td>\n      <td>1</td>\n      <td>JAMMU AND KASHMIR</td>\n      <td>1</td>\n      <td>ANANTNAG</td>\n      <td>IGNWPS</td>\n      <td>203</td>\n      <td>0</td>\n      <td>203</td>\n      <td>0</td>\n      <td>1</td>\n      <td>15</td>\n      <td>181</td>\n      <td>6</td>\n      <td>201</td>\n      <td>160</td>\n    </tr>\n    <tr>\n      <th>3</th>\n      <td>2025-2026</td>\n      <td>1</td>\n      <td>JAMMU AND KASHMIR</td>\n      <td>10</td>\n      <td>POONCH</td>\n      <td>IGNDPS</td>\n      <td>310</td>\n      <td>211</td>\n      <td>99</td>\n      <td>0</td>\n      <td>0</td>\n      <td>77</td>\n      <td>200</td>\n      <td>33</td>\n      <td>234</td>\n      <td>110</td>\n    </tr>\n    <tr>\n      <th>4</th>\n      <td>2025-2026</td>\n      <td>1</td>\n      <td>JAMMU AND KASHMIR</td>\n      <td>10</td>\n      <td>POONCH</td>\n      <td>IGNOAPS</td>\n      <td>5959</td>\n      <td>3959</td>\n      <td>2000</td>\n      <td>0</td>\n      <td>2</td>\n      <td>1347</td>\n      <td>4368</td>\n      <td>242</td>\n      <td>3873</td>\n      <td>2287</td>\n    </tr>\n    <tr>\n      <th>5</th>\n      <td>2025-2026</td>\n      <td>1</td>\n      <td>JAMMU AND KASHMIR</td>\n      <td>10</td>\n      <td>POONCH</td>\n      <td>IGNWPS</td>\n      <td>382</td>\n      <td>0</td>\n      <td>382</td>\n      <td>0</td>\n      <td>0</td>\n      <td>65</td>\n      <td>298</td>\n      <td>19</td>\n      <td>260</td>\n      <td>90</td>\n    </tr>\n    <tr>\n      <th>6</th>\n      <td>2025-2026</td>\n      <td>1</td>\n      <td>JAMMU AND KASHMIR</td>\n      <td>11</td>\n      <td>PULWAMA</td>\n      <td>IGNDPS</td>\n      <td>95</td>\n      <td>63</td>\n      <td>32</td>\n      <td>0</td>\n      <td>0</td>\n      <td>6</td>\n      <td>81</td>\n      <td>8</td>\n      <td>94</td>\n      <td>93</td>\n    </tr>\n    <tr>\n      <th>7</th>\n      <td>2025-2026</td>\n      <td>1</td>\n      <td>JAMMU AND KASHMIR</td>\n      <td>11</td>\n      <td>PULWAMA</td>\n      <td>IGNOAPS</td>\n      <td>5037</td>\n      <td>2922</td>\n      <td>2115</td>\n      <td>0</td>\n      <td>1</td>\n      <td>197</td>\n      <td>4458</td>\n      <td>381</td>\n      <td>5037</td>\n      <td>4950</td>\n    </tr>\n    <tr>\n      <th>8</th>\n      <td>2025-2026</td>\n      <td>1</td>\n      <td>JAMMU AND KASHMIR</td>\n      <td>11</td>\n      <td>PULWAMA</td>\n      <td>IGNWPS</td>\n      <td>304</td>\n      <td>0</td>\n      <td>304</td>\n      <td>0</td>\n      <td>0</td>\n      <td>20</td>\n      <td>260</td>\n      <td>24</td>\n      <td>304</td>\n      <td>258</td>\n    </tr>\n    <tr>\n      <th>9</th>\n      <td>2025-2026</td>\n      <td>1</td>\n      <td>JAMMU AND KASHMIR</td>\n      <td>12</td>\n      <td>RAJAURI</td>\n      <td>IGNDPS</td>\n      <td>77</td>\n      <td>52</td>\n      <td>25</td>\n      <td>0</td>\n      <td>5</td>\n      <td>5</td>\n      <td>67</td>\n      <td>0</td>\n      <td>71</td>\n      <td>2</td>\n    </tr>\n  </tbody>\n</table>\n</div>",
                        "text/plain": "     finyear  lgdstatecode          statename  lgddistrictcode districtname  \\\n0  2025-2026             1  JAMMU AND KASHMIR                1     ANANTNAG   \n1  2025-2026             1  JAMMU AND KASHMIR                1     ANANTNAG   \n2  2025-2026             1  JAMMU AND KASHMIR                1     ANANTNAG   \n3  2025-2026             1  JAMMU AND KASHMIR               10       POONCH   \n4  2025-2026             1  JAMMU AND KASHMIR               10       POONCH   \n5  2025-2026             1  JAMMU AND KASHMIR               10       POONCH   \n6  2025-2026             1  JAMMU AND KASHMIR               11      PULWAMA   \n7  2025-2026             1  JAMMU AND KASHMIR               11      PULWAMA   \n8  2025-2026             1  JAMMU AND KASHMIR               11      PULWAMA   \n9  2025-2026             1  JAMMU AND KASHMIR               12      RAJAURI   \n\n  schemecode  totalbeneficiaries  totalmale  totalfemale  totaltransgender  \\\n0     IGNDPS                 107         71           36                 0   \n1    IGNOAPS                8393       5037         3356                 0   \n2     IGNWPS                 203          0          203                 0   \n3     IGNDPS                 310        211           99                 0   \n4    IGNOAPS                5959       3959         2000                 0   \n5     IGNWPS                 382          0          382                 0   \n6     IGNDPS                  95         63           32                 0   \n7    IGNOAPS                5037       2922         2115                 0   \n8     IGNWPS                 304          0          304                 0   \n9     IGNDPS                  77         52           25                 0   \n\n   totalsc  totalst  totalgen  totalobc  totalaadhaar  totalmpbilenumber  \n0        0        2       104         1           107                 69  \n1       37      232      8039        85          8327               7162  \n2        1       15       181         6           201                160  \n3        0       77       200        33           234                110  \n4        2     1347      4368       242          3873               2287  \n5        0       65       298        19           260                 90  \n6        0        6        81         8            94                 93  \n7        1      197      4458       381          5037               4950  \n8        0       20       260        24           304                258  \n9        5        5        67         0            71                  2  "
                    },
                    "execution_count": 1,
                    "metadata": {},
                    "output_type": "execute_result"
                }
            ],
            "source": "# The code was removed by Watson Studio for sharing."
        },
        {
            "cell_type": "code",
            "execution_count": 2,
            "metadata": {
                "id": "05d2f7b1-6b0f-4c58-9297-604d207b43d6"
            },
            "outputs": [
                {
                    "name": "stdout",
                    "output_type": "stream",
                    "text": "Data types and non-null counts:\n<class 'pandas.core.frame.DataFrame'>\nRangeIndex: 100 entries, 0 to 99\nData columns (total 10 columns):\n #   Column              Non-Null Count  Dtype \n---  ------              --------------  ----- \n 0   totalbeneficiaries  100 non-null    int64 \n 1   totalmale           100 non-null    int64 \n 2   totalfemale         100 non-null    int64 \n 3   totaltransgender    100 non-null    int64 \n 4   totalsc             100 non-null    int64 \n 5   totalst             100 non-null    int64 \n 6   totalobc            100 non-null    int64 \n 7   totalaadhaar        100 non-null    int64 \n 8   totalmpbilenumber   100 non-null    int64 \n 9   schemecode          100 non-null    object\ndtypes: int64(9), object(1)\nmemory usage: 7.9+ KB\n\nCleaned Data Head:\n"
                },
                {
                    "data": {
                        "text/html": "<div>\n<style scoped>\n    .dataframe tbody tr th:only-of-type {\n        vertical-align: middle;\n    }\n\n    .dataframe tbody tr th {\n        vertical-align: top;\n    }\n\n    .dataframe thead th {\n        text-align: right;\n    }\n</style>\n<table border=\"1\" class=\"dataframe\">\n  <thead>\n    <tr style=\"text-align: right;\">\n      <th></th>\n      <th>totalbeneficiaries</th>\n      <th>totalmale</th>\n      <th>totalfemale</th>\n      <th>totaltransgender</th>\n      <th>totalsc</th>\n      <th>totalst</th>\n      <th>totalobc</th>\n      <th>totalaadhaar</th>\n      <th>totalmpbilenumber</th>\n      <th>schemecode</th>\n    </tr>\n  </thead>\n  <tbody>\n    <tr>\n      <th>0</th>\n      <td>107</td>\n      <td>71</td>\n      <td>36</td>\n      <td>0</td>\n      <td>0</td>\n      <td>2</td>\n      <td>1</td>\n      <td>107</td>\n      <td>69</td>\n      <td>IGNDPS</td>\n    </tr>\n    <tr>\n      <th>1</th>\n      <td>8393</td>\n      <td>5037</td>\n      <td>3356</td>\n      <td>0</td>\n      <td>37</td>\n      <td>232</td>\n      <td>85</td>\n      <td>8327</td>\n      <td>7162</td>\n      <td>IGNOAPS</td>\n    </tr>\n    <tr>\n      <th>2</th>\n      <td>203</td>\n      <td>0</td>\n      <td>203</td>\n      <td>0</td>\n      <td>1</td>\n      <td>15</td>\n      <td>6</td>\n      <td>201</td>\n      <td>160</td>\n      <td>IGNWPS</td>\n    </tr>\n    <tr>\n      <th>3</th>\n      <td>310</td>\n      <td>211</td>\n      <td>99</td>\n      <td>0</td>\n      <td>0</td>\n      <td>77</td>\n      <td>33</td>\n      <td>234</td>\n      <td>110</td>\n      <td>IGNDPS</td>\n    </tr>\n    <tr>\n      <th>4</th>\n      <td>5959</td>\n      <td>3959</td>\n      <td>2000</td>\n      <td>0</td>\n      <td>2</td>\n      <td>1347</td>\n      <td>242</td>\n      <td>3873</td>\n      <td>2287</td>\n      <td>IGNOAPS</td>\n    </tr>\n  </tbody>\n</table>\n</div>",
                        "text/plain": "   totalbeneficiaries  totalmale  totalfemale  totaltransgender  totalsc  \\\n0                 107         71           36                 0        0   \n1                8393       5037         3356                 0       37   \n2                 203          0          203                 0        1   \n3                 310        211           99                 0        0   \n4                5959       3959         2000                 0        2   \n\n   totalst  totalobc  totalaadhaar  totalmpbilenumber schemecode  \n0        2         1           107                 69     IGNDPS  \n1      232        85          8327               7162    IGNOAPS  \n2       15         6           201                160     IGNWPS  \n3       77        33           234                110     IGNDPS  \n4     1347       242          3873               2287    IGNOAPS  "
                    },
                    "execution_count": 2,
                    "metadata": {},
                    "output_type": "execute_result"
                }
            ],
            "source": "# Rename the DataFrame to 'df' for convenience\ndf = df_1\n\n# Select a subset of potentially useful features using the correct column names\nfeatures_to_keep = [\n    'totalbeneficiaries',\n    'totalmale',\n    'totalfemale',\n    'totaltransgender',\n    'totalsc',\n    'totalst',\n    'totalobc',\n    'totalaadhaar',\n    'totalmpbilenumber', # The correct name with the typo\n    'schemecode' # This is our target variable\n]\n\ndf_cleaned = df[features_to_keep]\n\n# Check the data types and look for missing values\nprint(\"Data types and non-null counts:\")\ndf_cleaned.info()\n\n# Display the first few rows of the cleaned data\nprint(\"\\nCleaned Data Head:\")\ndf_cleaned.head()"
        },
        {
            "cell_type": "code",
            "execution_count": 3,
            "metadata": {
                "id": "fa55404e-85c9-41bb-bed1-48b0b7482e8c"
            },
            "outputs": [
                {
                    "name": "stdout",
                    "output_type": "stream",
                    "text": "Data successfully split.\nTraining set shape: (80, 9)\nTesting set shape: (20, 9)\n"
                }
            ],
            "source": "from sklearn.model_selection import train_test_split\n\n# Define our features (X) and the target we want to predict (y)\nX = df_cleaned.drop('schemecode', axis=1)\ny = df_cleaned['schemecode']\n\n# Split the data into 80% for training and 20% for testing\nX_train, X_test, y_train, y_test = train_test_split(X, y, test_size=0.2, random_state=42)\n\nprint(\"Data successfully split.\")\nprint(\"Training set shape:\", X_train.shape)\nprint(\"Testing set shape:\", X_test.shape)"
        },
        {
            "cell_type": "code",
            "execution_count": 4,
            "metadata": {
                "id": "e4c51e3e-00f7-4a3b-a2e7-f551a35dfc09"
            },
            "outputs": [
                {
                    "name": "stdout",
                    "output_type": "stream",
                    "text": "Model training is complete! \ud83e\udde0\n"
                }
            ],
            "source": "from sklearn.ensemble import RandomForestClassifier\n\n# Initialize the Random Forest model\nmodel = RandomForestClassifier(random_state=42)\n\n# Train the model on your training data\nmodel.fit(X_train, y_train)\n\nprint(\"Model training is complete! \ud83e\udde0\")"
        },
        {
            "cell_type": "code",
            "execution_count": 6,
            "metadata": {
                "id": "7f3dc93c-2616-48c5-a5ac-896d65751726"
            },
            "outputs": [
                {
                    "name": "stdout",
                    "output_type": "stream",
                    "text": "Model Accuracy: 100.00%\n\nClassification Report:\n              precision    recall  f1-score   support\n\n      IGNDPS       1.00      1.00      1.00         8\n     IGNOAPS       1.00      1.00      1.00         7\n      IGNWPS       1.00      1.00      1.00         5\n\n    accuracy                           1.00        20\n   macro avg       1.00      1.00      1.00        20\nweighted avg       1.00      1.00      1.00        20\n\n"
                }
            ],
            "source": "from sklearn.metrics import accuracy_score, classification_report\n\n# Use the trained model to make predictions on the test data\ny_pred = model.predict(X_test)\n\n# Calculate the model's accuracy\naccuracy = accuracy_score(y_test, y_pred)\nprint(f\"Model Accuracy: {accuracy * 100:.2f}%\")\n\n# Print a detailed report showing performance for each scheme\nprint(\"\\nClassification Report:\")\nprint(classification_report(y_test, y_pred))"
        },
        {
            "cell_type": "code",
            "execution_count": null,
            "metadata": {
                "id": "e7155e5d-eff5-47fe-8716-ae59a6afdb49"
            },
            "outputs": [],
            "source": ""
        }
    ],
    "metadata": {
        "kernelspec": {
            "display_name": "Python 3.11",
            "language": "python",
            "name": "python3"
        },
        "language_info": {
            "codemirror_mode": {
                "name": "ipython",
                "version": 3
            },
            "file_extension": ".py",
            "mimetype": "text/x-python",
            "name": "python",
            "nbconvert_exporter": "python",
            "pygments_lexer": "ipython3",
            "version": "3.11.13"
        }
    },
    "nbformat": 4,
    "nbformat_minor": 4
}